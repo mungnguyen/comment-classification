{
  "nbformat": 4,
  "nbformat_minor": 0,
  "metadata": {
    "colab": {
      "name": "comment-classification.ipynb",
      "provenance": [],
      "collapsed_sections": [],
      "toc_visible": true,
      "machine_shape": "hm",
      "mount_file_id": "1qr7SU9wzuc6jn_E2J4xE1C3chFOoZ5wn",
      "authorship_tag": "ABX9TyM0fIl/7ZF0p+eB1yuCiyQm",
      "include_colab_link": true
    },
    "kernelspec": {
      "name": "python3",
      "display_name": "Python 3"
    },
    "accelerator": "GPU"
  },
  "cells": [
    {
      "cell_type": "markdown",
      "metadata": {
        "id": "view-in-github",
        "colab_type": "text"
      },
      "source": [
        "<a href=\"https://colab.research.google.com/github/mungnguyen/comment-classification/blob/master/comment_classification.ipynb\" target=\"_parent\"><img src=\"https://colab.research.google.com/assets/colab-badge.svg\" alt=\"Open In Colab\"/></a>"
      ]
    },
    {
      "cell_type": "code",
      "metadata": {
        "id": "QP7YA9T2-OMp",
        "colab_type": "code",
        "outputId": "de526c7f-4ec6-4dae-b2c1-cd7bdda6ee43",
        "colab": {
          "base_uri": "https://localhost:8080/",
          "height": 119
        }
      },
      "source": [
        "import os\n",
        "import string\n",
        "\n",
        "from pathlib import Path\n",
        "from datetime import datetime\n",
        "from preprocess import cleanAndPreprocess\n",
        "\n",
        "from sklearn.datasets import load_files\n",
        "from sklearn.feature_extraction.text import TfidfVectorizer\n",
        "from sklearn.metrics import classification_report as metric\n",
        "\n",
        "from sklearn import tree\n",
        "from sklearn.ensemble import RandomForestClassifier\n",
        "from sklearn.svm import SVC\n",
        "from sklearn.neighbors import NearestCentroid\n",
        "from sklearn.naive_bayes import GaussianNB\n",
        "\n",
        "print(\"Begin Load file\\n\")\n",
        "\n",
        "# dirPath = Path(os.path.dirname(__file__))\n",
        "\n",
        "trainDir = '../data/aclImdb/train'\n",
        "testDir =  '../data/aclImdb/test'\n",
        "\n",
        "X_train = []\n",
        "y_train = []\n",
        "X_test = []\n",
        "y_test = []\n",
        "train_docs = []\n",
        "test_docs = []\n",
        "\n",
        "# Load data\n",
        "if os.path.isfile('train-docs-after-preprocessing.txt'):\n",
        "    train_file = open(\"./train-docs-after-preprocessing.txt\", \"r\")\n",
        "    train_docs = train_file.readlines()\n",
        "    print(f\"Train-docs length: {len(train_docs)}\")\n",
        "\n",
        "    train_label = open(\"./train-label-after-preprocessing.txt\", \"r\")\n",
        "    y_train = train_label.readlines()\n",
        "    print(f\"Train-label length: {len(y_train)}\")\n",
        "else:\n",
        "    #Load train file\n",
        "    trainset = load_files(trainDir, \"r\", categories=[\"pos\", \"neg\"], encoding=\"utf-8\")\n",
        "    X_train, y_train = trainset.data, trainset.target\n",
        "\n",
        "    # Clean and pre-process\n",
        "    print(\"Begin pre-processing trainset\\n\")\n",
        "\n",
        "    for x in X_train:\n",
        "        train_docs.append(\" \".join(cleanAndPreprocess(x)))\n",
        "    \n",
        "    print(\"End pre-processing trainset\\n\")\n",
        "\n",
        "    # Print to file\n",
        "    with open('train-docs-after-preprocessing.txt', 'w') as f_train:\n",
        "      for item in train_docs:\n",
        "          f_train.write(\"%s\\n\" % item)\n",
        "      print(\"print train_docs to file successly\")\n",
        "\n",
        "    with open('train-label-after-preprocessing.txt', 'w') as f_train_label:\n",
        "      for item in y_train:\n",
        "          f_train_label.write(\"%s\\n\" % item)\n",
        "      print(\"print train_lable to file successly\")\n",
        "\n",
        "if os.path.isfile('test-docs-after-preprocessing.txt'): \n",
        "    test_file = open(\"./test-docs-after-preprocessing.txt\", \"r\")\n",
        "    test_docs = test_file.readlines()\n",
        "    print(f\"Test-docs length: {len(test_docs)}\")\n",
        "\n",
        "    test_label = open(\"./test-label-after-preprocessing.txt\", \"r\")\n",
        "    y_test = test_label.readlines()\n",
        "    print(f\"Test-label length: {len(y_test)}\")\n",
        "\n",
        "else:\n",
        "    #Load test file\n",
        "    print(\"Begin load test file\")\n",
        "    testset = load_files(testDir, \"r\", categories=[\"pos\", \"neg\"], encoding=\"utf-8\")\n",
        "    X_test, y_test = testset.data, testset.target\n",
        "    print(\"End Load test file\\n\")\n",
        "\n",
        "    # Clean and pre-process\n",
        "    print(\"Begin pre-processing testset\\n\")\n",
        "    for x in X_test:\n",
        "        test_docs.append(\" \".join(cleanAndPreprocess(x)))\n",
        "    print(\"End pre-processing testset\\n\")\n",
        "\n",
        "    # Print to file\n",
        "    with open('test-docs-after-preprocessing.txt', 'w') as f_test:\n",
        "      for item in test_docs:\n",
        "          f_test.write(\"%s\\n\" % item)\n",
        "      print(\"print test_docs to file successly\") \n",
        "\n",
        "    with open('test-label-after-preprocessing.txt', 'w') as f_test_label:\n",
        "      for item in y_test:\n",
        "          f_test_label.write(\"%s\\n\" % item)\n",
        "      print(\"print test_label to file successly\")"
      ],
      "execution_count": 0,
      "outputs": [
        {
          "output_type": "stream",
          "text": [
            "Begin Load file\n",
            "\n",
            "Train-docs length: 25000\n",
            "Train-label length: 25000\n",
            "Test-docs length: 25000\n",
            "Test-label length: 25000\n"
          ],
          "name": "stdout"
        }
      ]
    },
    {
      "cell_type": "code",
      "metadata": {
        "id": "OTMPxw-2CA0k",
        "colab_type": "code",
        "outputId": "10e0860b-a5e8-4341-e176-7942d9ce8a47",
        "colab": {
          "base_uri": "https://localhost:8080/",
          "height": 153
        }
      },
      "source": [
        "# Vectorize\n",
        "print(\"Begin vectorize \\n\")\n",
        "# IF-IDF\n",
        "print(\"Begin tf-idf\")\n",
        "train_tfidf = TfidfVectorizer(max_features=10000, min_df=10, max_df=0.7, encoding='utf-8', lowercase=False)\n",
        "X_train = train_tfidf.fit_transform(train_docs)\n",
        "\n",
        "print(f\"Voca len: {len(train_tfidf.vocabulary_)}\")\n",
        "\n",
        "print(\"Begin test tf-idf\")\n",
        "test_tf_idf = TfidfVectorizer(min_df=5, max_df=0.7, encoding='utf-8', lowercase=False, vocabulary=train_tfidf.vocabulary_)\n",
        "X_test = test_tf_idf.fit_transform(test_docs)\n",
        "print(\"End tf-idf\")\n",
        "\n",
        "print(\"End vectorize \\n\")"
      ],
      "execution_count": 0,
      "outputs": [
        {
          "output_type": "stream",
          "text": [
            "Begin vectorize \n",
            "\n",
            "Begin tf-idf\n",
            "Voca len: 10000\n",
            "Begin test tf-idf\n",
            "End tf-idf\n",
            "End vectorize \n",
            "\n"
          ],
          "name": "stdout"
        }
      ]
    },
    {
      "cell_type": "code",
      "metadata": {
        "id": "UTSNGQPHCkHh",
        "colab_type": "code",
        "outputId": "18c9dc4d-d5df-4581-b5e0-72bd60c7427a",
        "colab": {
          "base_uri": "https://localhost:8080/",
          "height": 323
        }
      },
      "source": [
        "# Training data - testing data\n",
        "    # Traning with Decision Tree\n",
        "print(\"Begin training data with decision tree\")\n",
        "start_time = datetime.now()\n",
        "\n",
        "clf = tree.DecisionTreeClassifier()\n",
        "clf = clf.fit(X_train, y_train)\n",
        "\n",
        "end_time = datetime.now()\n",
        "print(f\"Time to training: {end_time - start_time}\")\n",
        "\n",
        "print(\"End training data with decision tree\")\n",
        "\n",
        "# Testing with decision tree\n",
        "print(\"Begin testing data with decision tree\")\n",
        "start_time = datetime.now()\n",
        "\n",
        "dstree_pred = clf.predict(X_test)\n",
        "\n",
        "result = metric(y_test, dstree_pred)\n",
        "\n",
        "print(f\"{result}\\n\")\n",
        "\n",
        "end_time = datetime.now()\n",
        "print(f\"Time to testing: {end_time - start_time}\")\n",
        "\n",
        "print(\"End testing data with decision tree\")"
      ],
      "execution_count": 0,
      "outputs": [
        {
          "output_type": "stream",
          "text": [
            "Begin training data with decision tree\n",
            "Time to training: 0:00:27.212792\n",
            "End training data with decision tree\n",
            "Begin testing data with decision tree\n",
            "              precision    recall  f1-score   support\n",
            "\n",
            "          0\n",
            "       0.71      0.72      0.72     12500\n",
            "          1\n",
            "       0.72      0.70      0.71     12500\n",
            "\n",
            "    accuracy                           0.71     25000\n",
            "   macro avg       0.71      0.71      0.71     25000\n",
            "weighted avg       0.71      0.71      0.71     25000\n",
            "\n",
            "\n",
            "Time to testing: 0:00:00.159772\n",
            "End testing data with decision tree\n"
          ],
          "name": "stdout"
        }
      ]
    },
    {
      "cell_type": "code",
      "metadata": {
        "id": "kE3xGNRTF7Jd",
        "colab_type": "code",
        "outputId": "efcc7ff3-a9c4-4d06-c1d8-9c21e7628b75",
        "colab": {
          "base_uri": "https://localhost:8080/",
          "height": 323
        }
      },
      "source": [
        " # Traning with Random Forest\n",
        "print(\"Begin training with Random Forest\")\n",
        "start_time = datetime.now()\n",
        "\n",
        "clf = RandomForestClassifier(n_estimators=1000, random_state=0)\n",
        "clf.fit(X_train, y_train) \n",
        "\n",
        "end_time = datetime.now()\n",
        "print(f\"Time to training: {end_time - start_time}\")\n",
        "\n",
        "print(\"End training with Random Forest\")\n",
        "\n",
        "    # Tesing with Random Forest\n",
        "print(\"Begin testing with Random Forest\")\n",
        "start_time = datetime.now()\n",
        "\n",
        "rd_pred = clf.predict(X_test)\n",
        "\n",
        "result = metric(y_test, rd_pred)\n",
        "\n",
        "print(f\"{result}\\n\")\n",
        "\n",
        "end_time = datetime.now()\n",
        "print(f\"Time to testing: {end_time - start_time}\")\n",
        "\n",
        "print(\"End testing with Random Forest\")"
      ],
      "execution_count": 0,
      "outputs": [
        {
          "output_type": "stream",
          "text": [
            "Begin training with Random Forest\n",
            "Time to training: 0:08:48.912607\n",
            "End training with Random Forest\n",
            "Begin testing with Random Forest\n",
            "              precision    recall  f1-score   support\n",
            "\n",
            "          0\n",
            "       0.85      0.86      0.86     12500\n",
            "          1\n",
            "       0.86      0.85      0.86     12500\n",
            "\n",
            "    accuracy                           0.86     25000\n",
            "   macro avg       0.86      0.86      0.86     25000\n",
            "weighted avg       0.86      0.86      0.86     25000\n",
            "\n",
            "\n",
            "Time to testing: 0:00:15.949981\n",
            "End testing with Random Forest\n"
          ],
          "name": "stdout"
        }
      ]
    },
    {
      "cell_type": "code",
      "metadata": {
        "id": "klJ499ilGD9x",
        "colab_type": "code",
        "outputId": "713e51eb-f9c1-4e52-c929-ca4ebf22acb2",
        "colab": {
          "base_uri": "https://localhost:8080/",
          "height": 323
        }
      },
      "source": [
        "# Traning with SVM\n",
        "print(\"Begin training with SVM\")\n",
        "start_time = datetime.now()\n",
        "\n",
        "clf = SVC(kernel=\"linear\", gamma='auto')\n",
        "clf.fit(X_train, y_train)\n",
        "\n",
        "end_time = datetime.now()\n",
        "print(f\"Time to training: {end_time - start_time}\")\n",
        "\n",
        "print(\"End training with SVM\")\n",
        "\n",
        "    # Tesing with SVM\n",
        "print(\"Begin testing with SVM\")\n",
        "start_time = datetime.now()\n",
        "\n",
        "svm_pred = clf.predict(X_test)\n",
        "\n",
        "result = metric(y_test, svm_pred)\n",
        "\n",
        "end_time = datetime.now()\n",
        "print(f\"Time to testing: {end_time - start_time}\")\n",
        "\n",
        "print(f\"{result}\\n\")\n",
        "\n",
        "print(\"End testing with SVM\")"
      ],
      "execution_count": 0,
      "outputs": [
        {
          "output_type": "stream",
          "text": [
            "Begin training with SVM\n",
            "Time to training: 0:07:19.772654\n",
            "End training with SVM\n",
            "Begin testing with SVM\n",
            "Time to testing: 0:03:13.367918\n",
            "              precision    recall  f1-score   support\n",
            "\n",
            "          0\n",
            "       0.87      0.88      0.88     12500\n",
            "          1\n",
            "       0.88      0.87      0.88     12500\n",
            "\n",
            "    accuracy                           0.88     25000\n",
            "   macro avg       0.88      0.88      0.88     25000\n",
            "weighted avg       0.88      0.88      0.88     25000\n",
            "\n",
            "\n",
            "End testing with SVM\n"
          ],
          "name": "stdout"
        }
      ]
    },
    {
      "cell_type": "code",
      "metadata": {
        "id": "7rhAtFPuGJzp",
        "colab_type": "code",
        "outputId": "f51dc044-a088-49f6-c384-a353aec37865",
        "colab": {
          "base_uri": "https://localhost:8080/",
          "height": 323
        }
      },
      "source": [
        "# Traning with Rocchio Classification\n",
        "print(\"Begin training with Rocchio Classification\")\n",
        "start_time = datetime.now()\n",
        "\n",
        "clf = NearestCentroid()\n",
        "clf.fit(X_train, y_train)\n",
        "\n",
        "end_time = datetime.now()\n",
        "print(f\"Time to training: {end_time - start_time}\")\n",
        "\n",
        "print(\"End training with Rocchio Classification\")\n",
        "\n",
        "    # Tesing with Rocchio Classification\n",
        "print(\"Begin testing with Rocchio Classification\")\n",
        "start_time = datetime.now()\n",
        "\n",
        "rc_pred = clf.predict(X_test)\n",
        "\n",
        "result = metric(y_test, rc_pred)\n",
        "\n",
        "print(f\"{result}\\n\")\n",
        "\n",
        "end_time = datetime.now()\n",
        "print(f\"Time to testing: {end_time - start_time}\")\n",
        "\n",
        "print(\"End testing with Rocchio Classification\")"
      ],
      "execution_count": 0,
      "outputs": [
        {
          "output_type": "stream",
          "text": [
            "Begin training with Rocchio Classification\n",
            "Time to training: 0:00:00.038749\n",
            "End training with Rocchio Classification\n",
            "Begin testing with Rocchio Classification\n",
            "              precision    recall  f1-score   support\n",
            "\n",
            "          0\n",
            "       0.83      0.77      0.80     12500\n",
            "          1\n",
            "       0.78      0.85      0.81     12500\n",
            "\n",
            "    accuracy                           0.81     25000\n",
            "   macro avg       0.81      0.81      0.81     25000\n",
            "weighted avg       0.81      0.81      0.81     25000\n",
            "\n",
            "\n",
            "Time to testing: 0:00:00.161210\n",
            "End testing with Rocchio Classification\n"
          ],
          "name": "stdout"
        }
      ]
    },
    {
      "cell_type": "code",
      "metadata": {
        "id": "T7IMz32EGVtH",
        "colab_type": "code",
        "outputId": "2d847353-00cd-4c2e-cc08-7e55bc130bc2",
        "colab": {
          "base_uri": "https://localhost:8080/",
          "height": 340
        }
      },
      "source": [
        "# Traning with Naive Bayes Classifier\n",
        "print(\"Begin training with Naive Bayes Classifier, use Gaussian Naive Bayes algorithm\")\n",
        "start_time = datetime.now()\n",
        "\n",
        "clf = GaussianNB()\n",
        "clf.fit(X_train.toarray(), y_train)\n",
        "\n",
        "end_time = datetime.now()\n",
        "print(f\"Time to training: {end_time - start_time}\")\n",
        "\n",
        "print(\"End training with Naive Bayes Classifier\")\n",
        "\n",
        "    # Tesing with Naive Bayes Classifier\n",
        "print(\"Begin testing with Naive Bayes Classifier\")\n",
        "start_time = datetime.now()\n",
        "\n",
        "nb_pred = clf.predict(X_test.toarray())\n",
        "\n",
        "result = metric(y_test, nb_pred)\n",
        "\n",
        "end_time = datetime.now()\n",
        "print(f\"Time to testing: {end_time - start_time}\")\n",
        "\n",
        "print(f\"{result}\\n\")\n",
        "\n",
        "print(\"End testing with Naive Bayes Classifier\")\n",
        "\n",
        "print(\"End programe\")"
      ],
      "execution_count": 0,
      "outputs": [
        {
          "output_type": "stream",
          "text": [
            "Begin training with Naive Bayes Classifier, use Gaussian Naive Bayes algorithm\n",
            "Time to training: 0:00:03.963598\n",
            "End training with Naive Bayes Classifier\n",
            "Begin testing with Naive Bayes Classifier\n",
            "Time to testing: 0:00:04.154739\n",
            "              precision    recall  f1-score   support\n",
            "\n",
            "          0\n",
            "       0.64      0.78      0.71     12500\n",
            "          1\n",
            "       0.72      0.57      0.64     12500\n",
            "\n",
            "    accuracy                           0.67     25000\n",
            "   macro avg       0.68      0.67      0.67     25000\n",
            "weighted avg       0.68      0.67      0.67     25000\n",
            "\n",
            "\n",
            "End testing with Naive Bayes Classifier\n",
            "End programe\n"
          ],
          "name": "stdout"
        }
      ]
    },
    {
      "cell_type": "code",
      "metadata": {
        "id": "pb_V9ERuuVaR",
        "colab_type": "code",
        "outputId": "f0f3d72d-2d29-45e9-c5e2-a045dacb3374",
        "colab": {
          "base_uri": "https://localhost:8080/",
          "height": 340
        }
      },
      "source": [
        "# Traning with Naive Bayes Classifier\n",
        "from sklearn.naive_bayes import BernoulliNB\n",
        "\n",
        "print(\"Begin training with Naive Bayes Classifier, use Bernoulli Naive Bayes algorithm\")\n",
        "start_time = datetime.now()\n",
        "\n",
        "clf = BernoulliNB()\n",
        "clf.fit(X_train.toarray(), y_train)\n",
        "\n",
        "end_time = datetime.now()\n",
        "print(f\"Time to training: {end_time - start_time}\")\n",
        "\n",
        "print(\"End training with Naive Bayes Classifier\")\n",
        "\n",
        "    # Tesing with Naive Bayes Classifier\n",
        "print(\"Begin testing with Naive Bayes Classifier\")\n",
        "start_time = datetime.now()\n",
        "\n",
        "nb_pred = clf.predict(X_test.toarray())\n",
        "\n",
        "result = metric(y_test, nb_pred)\n",
        "\n",
        "end_time = datetime.now()\n",
        "print(f\"Time to testing: {end_time - start_time}\")\n",
        "\n",
        "print(f\"{result}\\n\")\n",
        "\n",
        "print(\"End testing with Naive Bayes Classifier\")\n",
        "\n",
        "print(\"End programe\")"
      ],
      "execution_count": 0,
      "outputs": [
        {
          "output_type": "stream",
          "text": [
            "Begin training with Naive Bayes Classifier, use Bernoulli Naive Bayes algorithm\n",
            "Time to training: 0:00:02.518697\n",
            "End training with Naive Bayes Classifier\n",
            "Begin testing with Naive Bayes Classifier\n",
            "Time to testing: 0:00:02.662418\n",
            "              precision    recall  f1-score   support\n",
            "\n",
            "          0\n",
            "       0.79      0.88      0.83     12500\n",
            "          1\n",
            "       0.86      0.77      0.81     12500\n",
            "\n",
            "    accuracy                           0.82     25000\n",
            "   macro avg       0.83      0.82      0.82     25000\n",
            "weighted avg       0.83      0.82      0.82     25000\n",
            "\n",
            "\n",
            "End testing with Naive Bayes Classifier\n",
            "End programe\n"
          ],
          "name": "stdout"
        }
      ]
    }
  ]
}