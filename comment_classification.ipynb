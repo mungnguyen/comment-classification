{
  "nbformat": 4,
  "nbformat_minor": 0,
  "metadata": {
    "colab": {
      "name": "comment-classification.ipynb",
      "provenance": [],
      "collapsed_sections": [],
      "toc_visible": true,
      "mount_file_id": "1qr7SU9wzuc6jn_E2J4xE1C3chFOoZ5wn",
      "authorship_tag": "ABX9TyO9yis8czwVkzli5Oc1VaXd",
      "include_colab_link": true
    },
    "kernelspec": {
      "name": "python3",
      "display_name": "Python 3"
    },
    "accelerator": "GPU"
  },
  "cells": [
    {
      "cell_type": "markdown",
      "metadata": {
        "id": "view-in-github",
        "colab_type": "text"
      },
      "source": [
        "<a href=\"https://colab.research.google.com/github/mungnguyen/comment-classification/blob/master/comment_classification.ipynb\" target=\"_parent\"><img src=\"https://colab.research.google.com/assets/colab-badge.svg\" alt=\"Open In Colab\"/></a>"
      ]
    },
    {
      "cell_type": "code",
      "metadata": {
        "id": "AJCKVl9OAvMX",
        "colab_type": "code",
        "outputId": "63742b20-3e36-41c5-f96b-da5b24526de6",
        "colab": {
          "base_uri": "https://localhost:8080/",
          "height": 34
        }
      },
      "source": [
        "cd /content/drive/My Drive/Python/comment-classification/src"
      ],
      "execution_count": 14,
      "outputs": [
        {
          "output_type": "stream",
          "text": [
            "/content/drive/My Drive/Python/comment-classification/src\n"
          ],
          "name": "stdout"
        }
      ]
    },
    {
      "cell_type": "markdown",
      "metadata": {
        "id": "VIZIu2UrXWfj",
        "colab_type": "text"
      },
      "source": [
        ""
      ]
    },
    {
      "cell_type": "code",
      "metadata": {
        "id": "tR1vCEoCCAi7",
        "colab_type": "code",
        "outputId": "8584a65d-9ed7-47fd-a39a-3e0845cdaf4a",
        "colab": {
          "base_uri": "https://localhost:8080/",
          "height": 51
        }
      },
      "source": [
        "import os\n",
        "from pathlib import Path\n",
        "from sklearn.datasets import load_files\n",
        "\n",
        "print(\"Begin Load file\\n\")\n",
        "# Load data\n",
        "# dirPath = Path(os.path.dirname(__file__))\n",
        "# print(dirPath.name)\n",
        "\n",
        "trainDir =  '/content/drive/My Drive/Python/comment-classification/data/aclImdb/train'\n",
        "testDir = '/content/drive/My Drive/Python/comment-classification/data/aclImdb/test'\n",
        "\n",
        "trainset = load_files(trainDir, \"r\", categories=[\"pos\", \"neg\"], encoding=\"utf-8\")"
      ],
      "execution_count": 15,
      "outputs": [
        {
          "output_type": "stream",
          "text": [
            "Begin Load file\n",
            "\n"
          ],
          "name": "stdout"
        }
      ]
    },
    {
      "cell_type": "code",
      "metadata": {
        "id": "2Zx-tjgICpK9",
        "colab_type": "code",
        "outputId": "f557cd56-6cd0-4586-b70b-f2daac1937da",
        "colab": {
          "base_uri": "https://localhost:8080/",
          "height": 51
        }
      },
      "source": [
        "testset = load_files(testDir, \"r\", categories=[\"pos\", \"neg\"], encoding=\"utf-8\")\n",
        "\n",
        "print(\"End Load file\\n\")\n",
        "\n",
        "X_train, y_train = trainset.data, trainset.target\n",
        "X_test, y_test = testset.data, testset.target\n"
      ],
      "execution_count": 16,
      "outputs": [
        {
          "output_type": "stream",
          "text": [
            "End Load file\n",
            "\n"
          ],
          "name": "stdout"
        }
      ]
    },
    {
      "cell_type": "code",
      "metadata": {
        "id": "w1yJuz-ACrDg",
        "colab_type": "code",
        "colab": {
          "base_uri": "https://localhost:8080/",
          "height": 51
        },
        "outputId": "aff3b3a3-ee2d-4d83-9e24-ad9f88478019"
      },
      "source": [
        "# Clean and pre-process\n",
        "from preprocess import cleanAndPreprocess\n",
        "\n",
        "train_docs = []\n",
        "test_docs = []\n",
        "\n",
        "print(\"Begin pre-processing\\n\")\n",
        "\n",
        "# X1 = X[:10]\n",
        "for x in X_train:\n",
        "    train_docs.append(\" \".join(cleanAndPreprocess(x)))"
      ],
      "execution_count": 17,
      "outputs": [
        {
          "output_type": "stream",
          "text": [
            "Begin pre-processing\n",
            "\n"
          ],
          "name": "stdout"
        }
      ]
    },
    {
      "cell_type": "code",
      "metadata": {
        "id": "fxe7YqxhhcX6",
        "colab_type": "code",
        "outputId": "3be2456c-3511-4c4a-ff14-c7ae9109dad6",
        "colab": {
          "base_uri": "https://localhost:8080/",
          "height": 34
        }
      },
      "source": [
        "with open('train-docs-after-preprocessing.txt', 'w') as f_train:\n",
        "    for item in train_docs:\n",
        "        f_train.write(\"%s\\n\" % item)\n",
        "print(\"print to file successly\")"
      ],
      "execution_count": 0,
      "outputs": [
        {
          "output_type": "stream",
          "text": [
            "print to file successly\n"
          ],
          "name": "stdout"
        }
      ]
    },
    {
      "cell_type": "code",
      "metadata": {
        "id": "W8MFSOA5CvKS",
        "colab_type": "code",
        "outputId": "d639ee4b-c7bf-4b0c-d46d-2750ceaf223e",
        "colab": {
          "base_uri": "https://localhost:8080/",
          "height": 51
        }
      },
      "source": [
        "# X1 = X[:10]\n",
        "for x in X_test:\n",
        "    test_docs.append(\" \".join(cleanAndPreprocess(x)))\n",
        "\n",
        "print(\"End pre-processing\\n\")\n"
      ],
      "execution_count": 18,
      "outputs": [
        {
          "output_type": "stream",
          "text": [
            "End pre-processing\n",
            "\n"
          ],
          "name": "stdout"
        }
      ]
    },
    {
      "cell_type": "code",
      "metadata": {
        "id": "zJQ5BvJthxYy",
        "colab_type": "code",
        "outputId": "37e909c1-57b7-4fb5-930f-a191c8d35aa6",
        "colab": {
          "base_uri": "https://localhost:8080/",
          "height": 34
        }
      },
      "source": [
        "with open('test-docs-after-preprocessing.txt', 'w') as f_test:\n",
        "    for item in test_docs:\n",
        "        f_test.write(\"%s\\n\" % item)\n",
        "print(\"print to file successly\")"
      ],
      "execution_count": 0,
      "outputs": [
        {
          "output_type": "stream",
          "text": [
            "print to file successly\n"
          ],
          "name": "stdout"
        }
      ]
    },
    {
      "cell_type": "code",
      "metadata": {
        "id": "lj_LdnkbC2u9",
        "colab_type": "code",
        "colab": {
          "base_uri": "https://localhost:8080/",
          "height": 85
        },
        "outputId": "bd274f8d-eb4f-4964-e174-957ba13baca1"
      },
      "source": [
        "print(\"Begin vectorize \\n\")\n",
        "from sklearn.feature_extraction.text import TfidfVectorizer\n",
        "\n",
        "# Vectorize\n",
        "# IF-IDF\n",
        "print(\"Begin tf-idf\")\n",
        "train_tfidf = TfidfVectorizer(max_features=10000, min_df=5, max_df=0.7, encoding='utf-8', lowercase=False)\n",
        "X_train = train_tfidf.fit_transform(train_docs).toarray()\n",
        "\n",
        "print(f\"Voca len: {len(train_tfidf.vocabulary_)}\")"
      ],
      "execution_count": 19,
      "outputs": [
        {
          "output_type": "stream",
          "text": [
            "Begin vectorize \n",
            "\n",
            "Begin tf-idf\n",
            "Voca len: 10000\n"
          ],
          "name": "stdout"
        }
      ]
    },
    {
      "cell_type": "code",
      "metadata": {
        "id": "vJxvl98rDCS_",
        "colab_type": "code",
        "colab": {
          "base_uri": "https://localhost:8080/",
          "height": 85
        },
        "outputId": "f103b7f6-a72a-4bbb-bd0d-794884ece018"
      },
      "source": [
        "print(\"Begin test tf-idf\")\n",
        "test_tf_idf = TfidfVectorizer(min_df=5, max_df=0.7, encoding='utf-8', lowercase=False, vocabulary=train_tfidf.vocabulary_)\n",
        "X_test = test_tf_idf.fit_transform(test_docs).toarray()\n",
        "print(\"End tf-idf\")\n",
        "\n",
        "print(\"End vectorize \\n\")"
      ],
      "execution_count": 20,
      "outputs": [
        {
          "output_type": "stream",
          "text": [
            "Begin test tf-idf\n",
            "End tf-idf\n",
            "End vectorize \n",
            "\n"
          ],
          "name": "stdout"
        }
      ]
    },
    {
      "cell_type": "code",
      "metadata": {
        "id": "ZhK6OR4aDR76",
        "colab_type": "code",
        "outputId": "a05a2c09-be83-4352-8220-c0982f456629",
        "colab": {
          "base_uri": "https://localhost:8080/",
          "height": 238
        }
      },
      "source": [
        "# Training data - testing data\n",
        "    # Traning with Decision Tree\n",
        "from sklearn.metrics import classification_report as metric\n",
        "from sklearn import tree\n",
        "\n",
        "print(\"Begin training data with decision tree\")\n",
        "\n",
        "clf = tree.DecisionTreeClassifier()\n",
        "clf = clf.fit(X_train, y_train)\n",
        "\n",
        "print(\"End training data with decision tree\")\n",
        "\n",
        "    # Testing with decision tree\n",
        "print(\"Begin testing data with decision tree\")\n",
        "\n",
        "dstree_pred = clf.predict(X_test)\n",
        "\n",
        "result = metric(y_test, dstree_pred)\n",
        "\n",
        "print(f\"{result}\")\n",
        "\n",
        "print(\"End testing data with decision tree\")"
      ],
      "execution_count": 21,
      "outputs": [
        {
          "output_type": "stream",
          "text": [
            "Begin training data with decision tree\n",
            "End training data with decision tree\n",
            "Begin testing data with decision tree\n",
            "              precision    recall  f1-score   support\n",
            "\n",
            "           0       0.71      0.72      0.72     12500\n",
            "           1       0.72      0.71      0.71     12500\n",
            "\n",
            "    accuracy                           0.71     25000\n",
            "   macro avg       0.71      0.71      0.71     25000\n",
            "weighted avg       0.71      0.71      0.71     25000\n",
            "\n",
            "End testing data with decision tree\n"
          ],
          "name": "stdout"
        }
      ]
    },
    {
      "cell_type": "code",
      "metadata": {
        "id": "dg4bLDS8DlkY",
        "colab_type": "code",
        "outputId": "316ea139-d2de-402d-8ab4-4cebcda80a6b",
        "colab": {
          "base_uri": "https://localhost:8080/",
          "height": 238
        }
      },
      "source": [
        "# Traning with Random Forest\n",
        "from sklearn.ensemble import RandomForestClassifier\n",
        "\n",
        "print(\"Begin training with Random Forest\")\n",
        "\n",
        "clf = RandomForestClassifier(n_estimators=1000, random_state=0)\n",
        "clf.fit(X_train, y_train) \n",
        "\n",
        "print(\"End training with Random Forest\")\n",
        "\n",
        "    # Tesing with Random Forest\n",
        "print(\"Begin testing with Random Forest\")\n",
        "\n",
        "rd_pred = clf.predict(X_test)\n",
        "\n",
        "result = metric(y_test, rd_pred)\n",
        "\n",
        "print(f\"Result: {result}\")\n",
        "\n",
        "print(\"End testing with Random Forest\")"
      ],
      "execution_count": 22,
      "outputs": [
        {
          "output_type": "stream",
          "text": [
            "Begin training with Random Forest\n",
            "End training with Random Forest\n",
            "Begin testing with Random Forest\n",
            "Result:               precision    recall  f1-score   support\n",
            "\n",
            "           0       0.85      0.87      0.86     12500\n",
            "           1       0.86      0.85      0.86     12500\n",
            "\n",
            "    accuracy                           0.86     25000\n",
            "   macro avg       0.86      0.86      0.86     25000\n",
            "weighted avg       0.86      0.86      0.86     25000\n",
            "\n",
            "End testing with Random Forest\n"
          ],
          "name": "stdout"
        }
      ]
    },
    {
      "cell_type": "code",
      "metadata": {
        "id": "GlbLiNWjDxtT",
        "colab_type": "code",
        "outputId": "dd8626cd-9ac5-49f8-88f7-10441da704ee",
        "colab": {
          "base_uri": "https://localhost:8080/",
          "height": 34
        }
      },
      "source": [
        "# Traning with SVM\n",
        "from sklearn.svm import SVC\n",
        "\n",
        "print(\"Begin training with SVM\")\n",
        "\n",
        "clf = SVC(kernel=\"linear\", gamma='auto')\n",
        "clf.fit(X_train, y_train)\n",
        "\n",
        "print(\"End training with SVM\")\n",
        "\n",
        "    # Tesing with SVM\n",
        "print(\"Begin testing with SVM\")\n",
        "\n",
        "svm_pred = clf.predict(X_test)\n",
        "\n",
        "result = metric(y_test, svm_pred)\n",
        "\n",
        "print(f\"{result}\")\n",
        "\n",
        "print(\"End testing with SVM\")"
      ],
      "execution_count": 0,
      "outputs": [
        {
          "output_type": "stream",
          "text": [
            "Begin training with SVM\n"
          ],
          "name": "stdout"
        }
      ]
    },
    {
      "cell_type": "code",
      "metadata": {
        "id": "po6Ne78ND6yE",
        "colab_type": "code",
        "outputId": "188b0077-8980-428f-9bf7-e43c24123249",
        "colab": {
          "base_uri": "https://localhost:8080/",
          "height": 238
        }
      },
      "source": [
        " # Traning with Rocchio Classification\n",
        "from sklearn.neighbors import NearestCentroid\n",
        "\n",
        "print(\"Begin training with Rocchio Classification\")\n",
        "\n",
        "clf = NearestCentroid()\n",
        "clf.fit(X_train, y_train)\n",
        "\n",
        "print(\"End training with Rocchio Classification\")\n",
        "\n",
        "    # Tesing with Rocchio Classification\n",
        "print(\"Begin testing with Rocchio Classification\")\n",
        "\n",
        "rc_pred = clf.predict(X_test)\n",
        "\n",
        "result = metric(y_test, rc_pred)\n",
        "\n",
        "print(f\"{result}\")\n",
        "\n",
        "print(\"End testing with Rocchio Classification\")"
      ],
      "execution_count": 23,
      "outputs": [
        {
          "output_type": "stream",
          "text": [
            "Begin training with Rocchio Classification\n",
            "End training with Rocchio Classification\n",
            "Begin testing with Rocchio Classification\n",
            "              precision    recall  f1-score   support\n",
            "\n",
            "           0       0.83      0.76      0.80     12500\n",
            "           1       0.78      0.85      0.81     12500\n",
            "\n",
            "    accuracy                           0.81     25000\n",
            "   macro avg       0.81      0.81      0.80     25000\n",
            "weighted avg       0.81      0.81      0.80     25000\n",
            "\n",
            "End testing with Rocchio Classification\n"
          ],
          "name": "stdout"
        }
      ]
    },
    {
      "cell_type": "code",
      "metadata": {
        "id": "L28QBax0D_eQ",
        "colab_type": "code",
        "colab": {
          "base_uri": "https://localhost:8080/",
          "height": 255
        },
        "outputId": "173c0d7d-2341-46d2-ffd8-28bff5ed42ff"
      },
      "source": [
        "# Traning with Naive Bayes Classifier\n",
        "from sklearn.naive_bayes import GaussianNB\n",
        "\n",
        "print(\"Begin training with Naive Bayes Classifier, use Gaussian Naive Bayes algorithm\")\n",
        "\n",
        "clf = GaussianNB()\n",
        "clf.fit(X_train, y_train)\n",
        "\n",
        "print(\"End training with Naive Bayes Classifier\")\n",
        "\n",
        "    # Tesing with Naive Bayes Classifier\n",
        "print(\"Begin testing with Naive Bayes Classifier\")\n",
        "\n",
        "nb_pred = clf.predict(X_test)\n",
        "\n",
        "result = metric(y_test, nb_pred)\n",
        "\n",
        "print(f\"{result}\")\n",
        "\n",
        "print(\"End testing with Naive Bayes Classifier\")\n",
        "\n",
        "print(\"End programe\")"
      ],
      "execution_count": 24,
      "outputs": [
        {
          "output_type": "stream",
          "text": [
            "Begin training with Naive Bayes Classifier, use Gaussian Naive Bayes algorithm\n",
            "End training with Naive Bayes Classifier\n",
            "Begin testing with Naive Bayes Classifier\n",
            "              precision    recall  f1-score   support\n",
            "\n",
            "           0       0.64      0.79      0.71     12500\n",
            "           1       0.72      0.54      0.62     12500\n",
            "\n",
            "    accuracy                           0.67     25000\n",
            "   macro avg       0.68      0.67      0.66     25000\n",
            "weighted avg       0.68      0.67      0.66     25000\n",
            "\n",
            "End testing with Naive Bayes Classifier\n",
            "End programe\n"
          ],
          "name": "stdout"
        }
      ]
    }
  ]
}